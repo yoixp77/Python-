{
  "nbformat": 4,
  "nbformat_minor": 0,
  "metadata": {
    "colab": {
      "provenance": []
    },
    "kernelspec": {
      "name": "python3",
      "display_name": "Python 3"
    },
    "language_info": {
      "name": "python"
    }
  },
  "cells": [
    {
      "cell_type": "markdown",
      "source": [
        "## 執行Shell命令：「!」"
      ],
      "metadata": {
        "id": "R3OOZVqjkTfJ"
      }
    },
    {
      "cell_type": "code",
      "execution_count": null,
      "metadata": {
        "id": "Z91Q96s3jpGs"
      },
      "outputs": [],
      "source": [
        "!pip install pytube"
      ]
    },
    {
      "cell_type": "code",
      "source": [
        "!pip list"
      ],
      "metadata": {
        "id": "9yHZZk15kD0b"
      },
      "execution_count": null,
      "outputs": []
    },
    {
      "cell_type": "code",
      "source": [
        "!pwd"
      ],
      "metadata": {
        "id": "9Nnwi5svkJzu"
      },
      "execution_count": null,
      "outputs": []
    },
    {
      "cell_type": "code",
      "source": [
        "from google.colab import drive\n",
        "drive.mount('/content/drive')"
      ],
      "metadata": {
        "id": "xmc5qlGcbWbF"
      },
      "execution_count": null,
      "outputs": []
    },
    {
      "cell_type": "markdown",
      "source": [
        "## 魔術指令：「%」"
      ],
      "metadata": {
        "id": "pTKCQ85wknxg"
      }
    },
    {
      "cell_type": "code",
      "source": [
        "%lsmagic"
      ],
      "metadata": {
        "id": "ErDLHyq0kbzn"
      },
      "execution_count": null,
      "outputs": []
    },
    {
      "cell_type": "code",
      "source": [
        "%timeit n=(12**2+15**2)**0.5"
      ],
      "metadata": {
        "id": "v44amCoHkjor"
      },
      "execution_count": null,
      "outputs": []
    },
    {
      "cell_type": "code",
      "source": [
        "%%timeit\n",
        "sum=0\n",
        "for i in range(1, 10001):\n",
        "  sum += i"
      ],
      "metadata": {
        "id": "LaJXaoG5lRV6"
      },
      "execution_count": null,
      "outputs": []
    },
    {
      "cell_type": "code",
      "source": [
        "%%writefile hello.py\n",
        "print(\"Hello World\")"
      ],
      "metadata": {
        "id": "_QAjy94alymr"
      },
      "execution_count": null,
      "outputs": []
    },
    {
      "cell_type": "code",
      "source": [
        "%run hello.py"
      ],
      "metadata": {
        "id": "SSPz2dul_QDK"
      },
      "execution_count": null,
      "outputs": []
    },
    {
      "cell_type": "code",
      "source": [
        "a = b = c = 20\n",
        "%whos"
      ],
      "metadata": {
        "id": "CbsRHksB_UoG"
      },
      "execution_count": null,
      "outputs": []
    },
    {
      "cell_type": "markdown",
      "source": [
        "# Colab的筆記功能"
      ],
      "metadata": {
        "id": "u-DnmQIJbnGt"
      }
    },
    {
      "cell_type": "markdown",
      "source": [
        "# 這是標題1文字\n",
        "## 這是標題2文字\n",
        "### 這是標題3文字\n",
        "#### 這是標題4文字\n",
        "##### 這是標題5文字\n",
        "###### 這是標題6文字"
      ],
      "metadata": {
        "id": "ckIiBMLebydI"
      }
    },
    {
      "cell_type": "markdown",
      "source": [
        "Markdown是約翰·格魯伯(John Gruber)所發明， 是一種輕量級標記式語言。\n",
        "\n",
        "目前有許多網站使用Markdown來撰寫說明文件， 也有很多論壇以Markdown發表文章與發送訊息。"
      ],
      "metadata": {
        "id": "GO3ydrqLcO-v"
      }
    },
    {
      "cell_type": "markdown",
      "source": [
        "這是段落1文字\n",
        ">這是引用文字\n",
        "\n",
        "這是段落2文字"
      ],
      "metadata": {
        "id": "w_4Z0nOac3I4"
      }
    },
    {
      "cell_type": "markdown",
      "source": [
        "- 第一種清單符號「-」\n",
        "+ 第二種清單符號「+」\n",
        "* 第三種清單符號「*」\n",
        "  - 第二層子清單一\n",
        "  - 第二層子清單二\n",
        "      - 第三層子清單"
      ],
      "metadata": {
        "id": "GFg4pGyOdMXl"
      }
    },
    {
      "cell_type": "markdown",
      "source": [
        "1. 數字清單1\n",
        "2. 數字清單2\n",
        "3. 數字清單3\n",
        "  1. 第二層數字清單1\n",
        "  2. 第二層數字清單2\n",
        "    1. 第三層數字清單\n",
        "\n",
        "2020\\. 新冠肺炎肆虐全球"
      ],
      "metadata": {
        "id": "CB1dTtfBeAW0"
      }
    },
    {
      "cell_type": "markdown",
      "source": [
        "第一段文字\n",
        "***\n",
        "第二段文字\n",
        "___\n",
        "第三段文字\n"
      ],
      "metadata": {
        "id": "3sm34sygfDF4"
      }
    },
    {
      "cell_type": "markdown",
      "source": [
        "下面是區塊程式碼：\n",
        "```\n",
        "total = i = 1\n",
        "n = int(input(\"請輸入正整數 n 的值：\"))\n",
        "while(i<=n):\n",
        "    total *= i  \n",
        "    i+=1      \n",
        "print(\"%d!=%d\" % (n, total))\n",
        "```"
      ],
      "metadata": {
        "id": "6dA8i-InfyCs"
      }
    },
    {
      "cell_type": "markdown",
      "source": [
        "示範：_斜體字一_\n",
        "\n",
        "示範：*斜體字二*"
      ],
      "metadata": {
        "id": "N0EZsDOahUMS"
      }
    },
    {
      "cell_type": "markdown",
      "source": [
        "示範：__粗體字一__\n",
        "\n",
        "示範：**粗體字二**"
      ],
      "metadata": {
        "id": "2UABkGxWho-z"
      }
    },
    {
      "cell_type": "markdown",
      "source": [
        "<a href='https://shopping.pchome.com.tw/'>PCHOME</a>\n",
        "\n",
        "[PCHOME](https://shopping.pchome.com.tw/)"
      ],
      "metadata": {
        "id": "HQLJeUhDiBcX"
      }
    },
    {
      "cell_type": "markdown",
      "source": [
        "HTML中若要強調某些文字可用 `<strong>` 及 `</strong>` 將其包圍起來。"
      ],
      "metadata": {
        "id": "ADJPtGxpnkgI"
      }
    },
    {
      "cell_type": "markdown",
      "source": [
        "<img src=\"https://encrypted-tbn0.gstatic.com/images?q=tbn:ANd9GcQ_Oji5JCN9oN-imWu0_MSioiO9cRPqlwQvhA&usqp=CAU\" alt=\"大蘋果\" />"
      ],
      "metadata": {
        "id": "tAEaPA7c6BFx"
      }
    },
    {
      "cell_type": "markdown",
      "source": [
        "![大蘋果](https://encrypted-tbn0.gstatic.com/images?q=tbn:ANd9GcQ_Oji5JCN9oN-imWu0_MSioiO9cRPqlwQvhA&usqp=CAU)"
      ],
      "metadata": {
        "id": "JaDoRDcH6Czc"
      }
    }
  ]
}